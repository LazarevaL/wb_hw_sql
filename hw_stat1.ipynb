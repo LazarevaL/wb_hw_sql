{
  "nbformat": 4,
  "nbformat_minor": 0,
  "metadata": {
    "colab": {
      "provenance": [],
      "authorship_tag": "ABX9TyP9GTfeiGxA5674RdEnQvbB",
      "include_colab_link": true
    },
    "kernelspec": {
      "name": "python3",
      "display_name": "Python 3"
    },
    "language_info": {
      "name": "python"
    }
  },
  "cells": [
    {
      "cell_type": "markdown",
      "metadata": {
        "id": "view-in-github",
        "colab_type": "text"
      },
      "source": [
        "<a href=\"https://colab.research.google.com/github/LazarevaL/wb_hw/blob/main/hw_stat1.ipynb\" target=\"_parent\"><img src=\"https://colab.research.google.com/assets/colab-badge.svg\" alt=\"Open In Colab\"/></a>"
      ]
    },
    {
      "cell_type": "markdown",
      "source": [
        "**Задача 1**\n",
        "\n",
        "Из партии батареек с номинальным напряжением 12 В наугад выбрано семь штук. Согласно показаниям высокоточного вольтметра, фактически выдаваемое ими напряжение составило: 12,9; 11,6; 13,5; 13,9; 12,1; 11,9; 13,0 В соответственно. Можно ли считать, что среднее напряжение действительно равно 12 В?"
      ],
      "metadata": {
        "id": "drXgL-DtkQjE"
      }
    },
    {
      "cell_type": "code",
      "source": [
        "import pandas as pd\n",
        "import numpy as np\n",
        "from scipy import stats"
      ],
      "metadata": {
        "id": "GVBm62vl81vo"
      },
      "execution_count": 4,
      "outputs": []
    },
    {
      "cell_type": "code",
      "source": [
        "#Н0 гипотеза - мат ожидание напряжения батареек = 12 В\n",
        "#Н1 гипотеза - мат ожидание напряжения батареек <> 12 В\n",
        "#для тестирования испрользуем одновыборочны t-тест, используем p value = 0.05\n",
        "\n",
        "\n",
        "sample = np.array([12.9, 11.6, 13.5, 13.9, 12.1, 11.9, 13])\n",
        "mu0 = 12"
      ],
      "metadata": {
        "id": "nD19RESEkOBF"
      },
      "execution_count": 6,
      "outputs": []
    },
    {
      "cell_type": "code",
      "source": [
        "stats.ttest_1samp(sample, mu0)\n",
        "#полученное p-value больше коэффициента значимости, принимаем нулевую гипотез, среднее напряжение равно 12В"
      ],
      "metadata": {
        "id": "QTACU3d4kOEP",
        "colab": {
          "base_uri": "https://localhost:8080/"
        },
        "outputId": "83e5ff82-aa25-47f0-c13c-f5042c3339ed"
      },
      "execution_count": 8,
      "outputs": [
        {
          "output_type": "execute_result",
          "data": {
            "text/plain": [
              "TtestResult(statistic=2.1578017974978794, pvalue=0.07430190210562304, df=6)"
            ]
          },
          "metadata": {},
          "execution_count": 8
        }
      ]
    },
    {
      "cell_type": "markdown",
      "source": [
        "**Задача 2**\n",
        "\n",
        "Есть два различных метода определения процентного содержания жира в мясе. Доля жира для 10 образцов мяса была определена каждым из двух методов. Позволяют ли полученные результаты сделать вывод о том, что один метод даёт в среднем более высокие показания, чем другой?"
      ],
      "metadata": {
        "id": "0IVwGNOqkVEq"
      }
    },
    {
      "cell_type": "markdown",
      "source": [
        "![image.png](data:image/png;base64,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)"
      ],
      "metadata": {
        "id": "y6IGNQiCkir1"
      }
    },
    {
      "cell_type": "code",
      "source": [
        "#Н0 гипотеза - метод 1 и метод 2 одинаковы\n",
        "#Н1 гипотеза - есть значимая разница в методе 1 и методе 2\n",
        "#для тестирования испрользуем двухвыборочный t-тест, используем p value = 0.05\n",
        "\n",
        "x = np.array([23.1, 23.2, 26.5, 26.6, 27.1,  48.3, 40.5, 25.0, 38.4, 23.5])\n",
        "y = np.array([22.7, 23.6, 27.1, 27.4, 27.4, 46.8,40.4, 24.9, 38.1, 23.8])"
      ],
      "metadata": {
        "id": "5fiLtLJXkllB"
      },
      "execution_count": 9,
      "outputs": []
    },
    {
      "cell_type": "code",
      "source": [
        "d = x - y\n",
        "stats.ttest_1samp(d,0)\n",
        "#полученное p-value больше коэффициента значимости, принимаем нулевую гипотез, методы не имеют различий"
      ],
      "metadata": {
        "id": "pbWxwgu2klbK",
        "colab": {
          "base_uri": "https://localhost:8080/"
        },
        "outputId": "c6a16d7b-c6b2-4a7b-8333-8895f6a9f48e"
      },
      "execution_count": 10,
      "outputs": [
        {
          "output_type": "execute_result",
          "data": {
            "text/plain": [
              "TtestResult(statistic=1.7154884978678027e-15, pvalue=0.9999999999999987, df=9)"
            ]
          },
          "metadata": {},
          "execution_count": 10
        }
      ]
    },
    {
      "cell_type": "markdown",
      "source": [
        "**Задача 3**\n",
        "\n",
        "Для проверки гипотезы о том, что жители городов имеют в среднем более высокое систолическое артериальное давление, чем жители сельской местности, было проведено обследование 10 горожан и 9 жителей села примерно одного возраста. Получены следующие данные об уровне давления для горожан: 132, 111, 119, 138, 200, 131, 138, 170, 159, 140; для селян: 115, 190, 127, 155, 148, 121, 116, 121, 197. Можно ли считать верной выдвинутую гипотезу на уровне значимости 0,05?"
      ],
      "metadata": {
        "id": "fg3v_602kl20"
      }
    },
    {
      "cell_type": "code",
      "source": [
        "#Н0 гипотеза - среднее давление одинаково у жителей города и села\n",
        "#Н1 гипотеза -есть различия в среднем давлении у жителей города и села\n",
        "#для проверки гипотезы используем двухбырочный критерий Стьюдента для независимых выборок\n",
        "\n",
        "x = [132, 111, 119, 138, 200, 131, 138, 170, 159, 140]\n",
        "y = [115, 190, 127, 155, 148, 121, 116, 121, 197]"
      ],
      "metadata": {
        "id": "-VVv_ffRkq9m"
      },
      "execution_count": 11,
      "outputs": []
    },
    {
      "cell_type": "code",
      "source": [
        "stats.ttest_ind(x,y).pvalue/2\n",
        "#на уровне значимости 0.05 мы не можем отвергнуть нулевую гипотезу, средние давление жителей города не выше чем у жителей села"
      ],
      "metadata": {
        "id": "qZuc7P5PklXl",
        "colab": {
          "base_uri": "https://localhost:8080/"
        },
        "outputId": "549152b3-cb42-4dc5-80d8-185bb3406482"
      },
      "execution_count": 12,
      "outputs": [
        {
          "output_type": "execute_result",
          "data": {
            "text/plain": [
              "0.486178812200461"
            ]
          },
          "metadata": {},
          "execution_count": 12
        }
      ]
    },
    {
      "cell_type": "markdown",
      "source": [
        "**Задача 4**\n",
        "\n",
        "Известно, что 52% новорождённых детей — мальчики, а 48% — девочки. В случайной выборке из 5 000 человек в возрасте от 30 до 60 лет мужчин оказалось 2 500. Можно ли на уровне значимости 0,05 считать, основываясь на этих данных, что смертность среди мужчин и женщин одинакова?"
      ],
      "metadata": {
        "id": "RNzMdbNXkrzU"
      }
    },
    {
      "cell_type": "code",
      "source": [
        "#Н0 гипотеза - смертность в двух группа одинаковая\n",
        "#Н1 гипотеза - есть различия в смертности в двух группа одинаковая\n",
        "#используем биномиальный критерий для проверки гипотезы о равенстве долей/вероятностей\n",
        "\n",
        "n1 = 2500\n",
        "m1 = 52\n",
        "n2 = 2500\n",
        "m2 = 48\n"
      ],
      "metadata": {
        "id": "3pWUzJEukwjL"
      },
      "execution_count": 13,
      "outputs": []
    },
    {
      "cell_type": "code",
      "source": [
        "T = (m1/n1 - m2/n2)/((m1+m2)/(n1+n2)*(1 - (m1+m2)/(n1+n2))*(1/n1 + 1/n2))**0.5\n",
        "P = 1 - stats.norm.cdf(T)\n",
        "print(\"Statistic: \",T,\", p-value: \",P)\n",
        "#на уровне значимости 0.05 мы не можем отвергнуть нулевую гипотезу, смертность в двух группа одинаковая"
      ],
      "metadata": {
        "id": "kqVASbJPkxNZ",
        "colab": {
          "base_uri": "https://localhost:8080/"
        },
        "outputId": "c87b0bf5-5746-4880-c558-d2f8fe3f7e6f"
      },
      "execution_count": 14,
      "outputs": [
        {
          "output_type": "stream",
          "name": "stdout",
          "text": [
            "Statistic:  0.40406101782088444 , p-value:  0.34308392492761963\n"
          ]
        }
      ]
    },
    {
      "cell_type": "markdown",
      "source": [
        "**Задача 5**\n",
        "\n",
        "В первом эксперименте для сравнения двух средних X1=17, X2=16 применялся t-критерий Стьюдента, и эти различия оказались значимы (p = 0, 001).\n",
        "\n",
        "Во втором исследовании, также при помощи t - критерия, сравнивались два средних X1=17, X2=36, и эти различия не значимы при p = 0,8. В чем может быть причина таких результатов, при условии, что нулевая и альтернативная гипотезы в обоих случаях одинаковы?"
      ],
      "metadata": {
        "id": "VhAEJ3Cikx3f"
      }
    },
    {
      "cell_type": "markdown",
      "source": [
        "Предположим, что при экспериментах выборки были проверены на нормальность/приведены к нормальным, и распределение не могло повлиять на результаты.\n",
        "\n",
        "Тогда, причинами таких резлуьтатов могли быть размеры выборок в экспериментах и их дисперсия. К примеру, у выборок в первом случае могла быть небольшая дисперсия, также возможно что в первом эксперименте был значительно бОльший объем данных чем во втором."
      ],
      "metadata": {
        "id": "n-DC3yregKvX"
      }
    }
  ]
}